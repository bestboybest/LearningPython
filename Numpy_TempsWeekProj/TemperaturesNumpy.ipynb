{
 "cells": [
  {
   "cell_type": "markdown",
   "id": "3e07dbb7",
   "metadata": {},
   "source": [
    "## Project Details\n",
    "We have data of temperatures at each hour of each day of a week from a region. We try to analyze and find patterns from the data."
   ]
  },
  {
   "cell_type": "code",
   "execution_count": 1,
   "id": "136af866-2901-4fca-a079-2989faeae447",
   "metadata": {},
   "outputs": [],
   "source": [
    "#import numpy and matplotlib\n",
    "import numpy as np\n",
    "import matplotlib.pyplot as plt"
   ]
  },
  {
   "cell_type": "code",
   "execution_count": 35,
   "id": "0908f836-6df6-493f-9cf4-9ff8017e1532",
   "metadata": {},
   "outputs": [],
   "source": [
    "#data of temperatures recorded in each day of a week at every hour (7x24) array\n",
    "temps = np.array([\n",
    "    [22.3, 21.8, 21.1, 20.7, 20.4, 21.0, 23.2, 25.5, 28.7, 31.2, 33.1, 34.0, 34.8, 35.1, 34.7, 33.9, 32.0, 29.6, 27.2, 25.1, 24.0, 23.1, 22.6, 22.0],\n",
    "    [21.5, 21.0, 20.6, 20.2, 20.0, 20.8, 22.5, 24.7, 27.5, 30.3, 32.8, 33.5, 34.2, 34.7, 34.0, 33.2, 31.5, 29.0, 26.8, 24.7, 23.5, 22.8, 22.0, 21.7],\n",
    "    [22.0, 21.5, 20.9, 20.5, 20.3, 21.0, 23.1, 25.4, 28.3, 31.0, 33.0, 34.1, 34.9, 35.2, 34.6, 33.8, 32.1, 29.5, 27.0, 25.0, 24.1, 23.0, 22.3, 21.9],\n",
    "    [21.8, 21.2, 20.7, 20.3, 20.1, 20.9, 22.8, 25.0, 27.8, 30.6, 32.9, 33.7, 34.3, 34.8, 34.1, 33.4, 31.8, 29.3, 27.1, 25.2, 24.0, 23.2, 22.7, 22.1],\n",
    "    [22.2, 21.7, 21.0, 20.6, 20.4, 21.1, 23.3, 25.7, 28.6, 31.4, 33.3, 34.2, 35.0, 35.4, 34.8, 33.9, 32.3, 29.8, 27.4, 25.3, 24.2, 23.4, 22.9, 22.3],\n",
    "    [21.9, 21.4, 20.8, 20.4, 20.2, 20.9, 22.9, 25.2, 28.1, 30.8, 33.0, 33.8, 34.5, 35.0, 34.4, 33.6, 31.9, 29.4, 27.2, 25.1, 24.0, 23.1, 22.6, 22.0],\n",
    "    [22.1, 21.6, 21.0, 20.5, 20.3, 21.0, 23.0, 25.3, 28.2, 31.0, 33.1, 34.0, 34.7, 35.2, 34.6, 33.8, 32.0, 29.6, 27.3, 25.2, 24.1, 23.2, 22.7, 22.2]\n",
    "])\n"
   ]
  },
  {
   "cell_type": "code",
   "execution_count": 36,
   "id": "e8d3800c-39e1-40dd-977f-119eb2e04217",
   "metadata": {},
   "outputs": [
    {
     "name": "stdout",
     "output_type": "stream",
     "text": [
      "Average temperature per day: [26.9625     26.39583333 26.85416667 26.65833333 27.09166667 26.75833333\n",
      " 26.90416667]\n"
     ]
    }
   ],
   "source": [
    "#average of each day in an array\n",
    "mean = np.mean(temps, axis = 1)\n",
    "print(\"Average temperature per day:\", mean)"
   ]
  },
  {
   "cell_type": "code",
   "execution_count": 34,
   "id": "82e7fac3-2a4d-49e1-bf38-0f79de0b7068",
   "metadata": {},
   "outputs": [
    {
     "name": "stdout",
     "output_type": "stream",
     "text": [
      "Max temperature in the week was: 35.4\n",
      "Min temperature in the week was: 20.0\n",
      "Highest temps of each day were: [35.1 34.7 35.2 34.8 35.4 35.  35.2]\n",
      "Lowest temps of each day were: [20.4 20.  20.3 20.1 20.4 20.2 20.3]\n"
     ]
    }
   ],
   "source": [
    "#max and min of the whole week + highest temps and lowest temps of each day\n",
    "print(\"Max temperature in the week was:\", temps.max())\n",
    "print(\"Min temperature in the week was:\", temps.min())\n",
    "print(\"Highest temps of each day were:\", temps.max(axis = 1))\n",
    "print(\"Lowest temps of each day were:\", temps.min(axis = 1))"
   ]
  },
  {
   "cell_type": "code",
   "execution_count": 50,
   "id": "00dbc369-656d-4635-86b0-77060cc0b595",
   "metadata": {},
   "outputs": [
    {
     "name": "stdout",
     "output_type": "stream",
     "text": [
      "On day 1, at hour 13:00, the temperature was 35.1\n",
      "On day 3, at hour 13:00, the temperature was 35.2\n",
      "On day 5, at hour 13:00, the temperature was 35.4\n",
      "On day 7, at hour 13:00, the temperature was 35.2\n"
     ]
    }
   ],
   "source": [
    "#The day and hour at which temp is above 35 degrees\n",
    "days = np.array(np.where(temps > 35.0))\n",
    "if days.size == 0:\n",
    "    print(\"There are no temperatures recorded above 35 degrees\")\n",
    "else:\n",
    "    for i in range(days[0].size):\n",
    "        print(f\"On day {days[0][i]+1}, at hour {days[1][i]}:00, the temperature was {temps[days[0][i], days[1][i]]}\")\n",
    "    "
   ]
  },
  {
   "cell_type": "code",
   "execution_count": 60,
   "id": "8d1b7468-93b0-448b-a299-6b8fec43d7a3",
   "metadata": {},
   "outputs": [
    {
     "name": "stdout",
     "output_type": "stream",
     "text": [
      "On day 1, at hour 13:00, the temperature was highest at 35.1\n",
      "On day 2, at hour 13:00, the temperature was highest at 34.7\n",
      "On day 3, at hour 13:00, the temperature was highest at 35.2\n",
      "On day 4, at hour 13:00, the temperature was highest at 34.8\n",
      "On day 5, at hour 13:00, the temperature was highest at 35.4\n",
      "On day 6, at hour 13:00, the temperature was highest at 35.0\n",
      "On day 7, at hour 13:00, the temperature was highest at 35.2\n"
     ]
    }
   ],
   "source": [
    "#The time at which highest temperature of each day was recorded\n",
    "hours = np.array(np.argmax(temps, axis = 1))\n",
    "for i in range(hours.size):\n",
    "    print(f\"On day {i+1}, at hour {hours[i]}:00, the temperature was highest at {temps[i, hours[i]]}\")"
   ]
  },
  {
   "cell_type": "markdown",
   "id": "46a2ddc5-0c59-4f7c-abb3-0e5641c1fcb0",
   "metadata": {},
   "source": [
    "Final analysis results: Temperature seems to be *highest* at time **1:00 pm** or 13:00 in the week.\n",
    "\n",
    "### Plotting of findings to visualize results"
   ]
  },
  {
   "cell_type": "code",
   "execution_count": null,
   "id": "e7ef6e0d-2af8-46eb-b87d-f8e09688728d",
   "metadata": {},
   "outputs": [],
   "source": []
  }
 ],
 "metadata": {
  "kernelspec": {
   "display_name": "base",
   "language": "python",
   "name": "python3"
  },
  "language_info": {
   "codemirror_mode": {
    "name": "ipython",
    "version": 3
   },
   "file_extension": ".py",
   "mimetype": "text/x-python",
   "name": "python",
   "nbconvert_exporter": "python",
   "pygments_lexer": "ipython3",
   "version": "3.13.5"
  }
 },
 "nbformat": 4,
 "nbformat_minor": 5
}
