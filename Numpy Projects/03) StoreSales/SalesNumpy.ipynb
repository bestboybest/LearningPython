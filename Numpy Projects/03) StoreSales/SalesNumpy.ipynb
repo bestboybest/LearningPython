{
 "cells": [
  {
   "cell_type": "markdown",
   "id": "5ed0dcfd",
   "metadata": {},
   "source": [
    "# Sales of an Online Store Project Details\n",
    "\n",
    "We are given data about the sales of an online store over the first quarter of an year (Jan to April) of 5 of their top products. We need to analyze the data provided and construct a report of the store's performance. \n",
    "\n",
    "\n",
    "Say in the month of April, the store had a target of generating a revenue of $15000 for each product. Which products sucessfully crossed the target?"
   ]
  },
  {
   "cell_type": "code",
   "execution_count": 5,
   "id": "94c8215c",
   "metadata": {},
   "outputs": [],
   "source": [
    "#import libraries\n",
    "import numpy as np\n",
    "import matplotlib.pyplot as plt"
   ]
  },
  {
   "cell_type": "code",
   "execution_count": 17,
   "id": "b9ccadc8",
   "metadata": {},
   "outputs": [],
   "source": [
    "#Given Data\n",
    "products = np.array(['Smartphone', 'Laptop', 'Headphones', 'Smartwatch', 'Tablet'])\n",
    "months = np.array([\"January\", \"February\", \"March\", \"April\"])\n",
    "\n",
    "prices = np.array([600, 1200, 150, 300, 450])\n",
    "costs = np.array([450, 950, 80, 210, 300])\n",
    "\n",
    "units = np.array([[55, 60, 65, 70], [25, 28, 30, 35], [110, 120, 100, 95], [40, 42, 48, 55], [35, 38, 40, 42]])"
   ]
  },
  {
   "cell_type": "code",
   "execution_count": 7,
   "id": "64c3d527",
   "metadata": {},
   "outputs": [],
   "source": [
    "#Calculations with data\n",
    "\n",
    "revenue = units * prices[:, np.newaxis]\n",
    "profit = units * (prices-costs)[:, np.newaxis]"
   ]
  },
  {
   "cell_type": "code",
   "execution_count": 33,
   "id": "6735a138",
   "metadata": {},
   "outputs": [
    {
     "name": "stdout",
     "output_type": "stream",
     "text": [
      "Total revenue over the four months is $480600.\n",
      "Total profit over the four months is $136650.\n",
      "\n",
      "\n",
      "Total revenue of product Smartphone over the four months is $150000\n",
      "Total revenue of product Laptop over the four months is $141600\n",
      "Total revenue of product Headphones over the four months is $63750\n",
      "Total revenue of product Smartwatch over the four months is $55500\n",
      "Total revenue of product Tablet over the four months is $69750\n",
      "\n",
      "\n",
      "\n",
      "Total profit product Smartphone over the four months is $37500\n",
      "Total profit product Laptop over the four months is $29500\n",
      "Total profit product Headphones over the four months is $29750\n",
      "Total profit product Smartwatch over the four months is $16650\n",
      "Total profit product Tablet over the four months is $23250\n"
     ]
    }
   ],
   "source": [
    "#Some conclusions about the products\n",
    "\n",
    "print(f\"Total revenue over the four months is ${np.sum(revenue)}.\")\n",
    "print(f\"Total profit over the four months is ${np.sum(profit)}.\\n\\n\")\n",
    "\n",
    "for i in range(5): print(f\"Total revenue of product {products[i]} over the four months is ${np.sum(revenue[i])}\")\n",
    "print(\"\\n\\n\")\n",
    "for i in range(5): print(f\"Total profit product {products[i]} over the four months is ${np.sum(profit[i])}\")"
   ]
  },
  {
   "cell_type": "code",
   "execution_count": 31,
   "id": "89910ea7",
   "metadata": {},
   "outputs": [
    {
     "name": "stdout",
     "output_type": "stream",
     "text": [
      "The best selling product was Headphones which sold 425 units and made a total revenue of $63750 and made a profit of $29750!\n",
      "The worst selling product was Laptop which sold 118 units and made only a revenue of $141600 and made a profit of $29500.\n",
      "\n",
      "The most revenue generating product was Smartphone which sold 250 units and made an amazing total revenue of $150000 and made a profit of $37500!\n",
      "The least revenue generating product was Smartwatch which sold 185 units and made only a revenue of $55500 and made a profit of $16650.\n",
      "\n",
      "The most profitable product was Smartphone which sold 250 units and made a total revenue of $150000 and made a huge profit of $37500!\n",
      "The least profitable product was Smartwatch which sold 185 units and made a revenue of $55500 and made a profit of $16650.\n",
      "\n"
     ]
    }
   ],
   "source": [
    " #Some more important conclusions about the products\n",
    "\n",
    "mostUnitsIndex = np.argmax(np.sum(units, axis = 1))\n",
    "leastUnitsIndex = np.argmin(np.sum(units, axis = 1))\n",
    "mostRevenueIndex = np.argmax(np.sum(revenue, axis = 1))\n",
    "leastRevenueIndex = np.argmin(np.sum(revenue, axis = 1))\n",
    "mostProfitIndex = np.argmax(np.sum(profit, axis = 1))\n",
    "leastProfitIndex = np.argmin(np.sum(profit, axis = 1))\n",
    "\n",
    "print(f\"The best selling product was {products[mostUnitsIndex]} which sold {np.sum(units[mostUnitsIndex])} units and made a total revenue of ${np.sum(revenue[mostUnitsIndex])} and made a profit of ${np.sum(profit[mostUnitsIndex])}!\")\n",
    "print(f\"The worst selling product was {products[leastUnitsIndex]} which sold {np.sum(units[leastUnitsIndex])} units and made only a revenue of ${np.sum(revenue[leastUnitsIndex])} and made a profit of ${np.sum(profit[leastUnitsIndex])}.\\n\")\n",
    "\n",
    "print(f\"The most revenue generating product was {products[mostRevenueIndex]} which sold {np.sum(units[mostRevenueIndex])} units and made an amazing total revenue of ${np.sum(revenue[mostRevenueIndex])} and made a profit of ${np.sum(profit[mostRevenueIndex])}!\")\n",
    "print(f\"The least revenue generating product was {products[leastRevenueIndex]} which sold {np.sum(units[leastRevenueIndex])} units and made only a revenue of ${np.sum(revenue[leastRevenueIndex])} and made a profit of ${np.sum(profit[leastRevenueIndex])}.\\n\")\n",
    "\n",
    "print(f\"The most profitable product was {products[mostProfitIndex]} which sold {np.sum(units[mostProfitIndex])} units and made a total revenue of ${np.sum(revenue[mostProfitIndex])} and made a huge profit of ${np.sum(profit[mostProfitIndex])}!\")\n",
    "print(f\"The least profitable product was {products[leastProfitIndex]} which sold {np.sum(units[leastProfitIndex])} units and made a revenue of ${np.sum(revenue[leastProfitIndex])} and made a profit of ${np.sum(profit[leastProfitIndex])}.\\n\")"
   ]
  },
  {
   "cell_type": "markdown",
   "id": "ef7cbe7c",
   "metadata": {},
   "source": [
    "It is clear that in this case, the most and least *revenue generating* and *profitable* products correspond to each other and are **Smartphone** and **Smartwatch** respectively.\n",
    "\n",
    "But the best and least *selling products* aren't related to either the most or least revenue generating or profitable products, and are **Headphones** and **Laptop** respectively."
   ]
  },
  {
   "cell_type": "code",
   "execution_count": 20,
   "id": "eab57ce9",
   "metadata": {},
   "outputs": [
    {
     "name": "stdout",
     "output_type": "stream",
     "text": [
      "The month with most units sold was April\n",
      "The month with the least units sold was January\n",
      "\n",
      "The month with most revenue generated was April\n",
      "The month with the least revenue generated was January\n",
      "\n",
      "The month with most profit in sales was April\n",
      "The month with the least profit in sales was January\n"
     ]
    }
   ],
   "source": [
    "# Some conclusions about the months of sales\n",
    "\n",
    "print(f\"The month with most units sold was {months[np.argmax(np.sum(units, axis = 0))]}\")\n",
    "print(f\"The month with the least units sold was {months[np.argmin(np.sum(units, axis = 0))]}\\n\")\n",
    "\n",
    "print(f\"The month with most revenue generated was {months[np.argmax(np.sum(revenue, axis = 0))]}\")\n",
    "print(f\"The month with the least revenue generated was {months[np.argmin(np.sum(revenue, axis = 0))]}\\n\")\n",
    "\n",
    "print(f\"The month with most profit in sales was {months[np.argmax(np.sum(profit, axis = 0))]}\")\n",
    "print(f\"The month with the least profit in sales was {months[np.argmin(np.sum(profit, axis = 0))]}\")"
   ]
  },
  {
   "cell_type": "markdown",
   "id": "f282ebf6",
   "metadata": {},
   "source": [
    "Clearly, the most units sold, revenue generated and profit in sales all correspond to the month of April.\n",
    "\n",
    "**April** was the *best performing* month.\n",
    "\n",
    "\n",
    "Also, the least untis sold, revenue generated and profit in sales all correspond to the month of January.\n",
    "\n",
    "**January** was the *least performing* month."
   ]
  },
  {
   "cell_type": "code",
   "execution_count": 70,
   "id": "e35ef200",
   "metadata": {},
   "outputs": [
    {
     "name": "stdout",
     "output_type": "stream",
     "text": [
      "Smartphone, Laptop, Smartwatch, Tablet all crossed the target of crossing $15000 in revenue in April\n",
      "\n",
      "Headphones didn't cross the target of crossing $15000 in revenue in April\n",
      "Headphones needed $750 to cross the target\n"
     ]
    }
   ],
   "source": [
    "#Analyzing target of the store and giving result\n",
    "\n",
    "print(f\"{\", \".join(products[revenue[:, 3] > 15000])} all crossed the target of crossing $15000 in revenue in April\")\n",
    "if (products.size != products[revenue[:, 3] > 15000].size):\n",
    " print(f\"\\n{\", \".join(products[~(revenue[:, 3] > 15000)])} didn't cross the target of crossing $15000 in revenue in April\")\n",
    " for i in products[~(revenue[:, 3] > 15000)]:\n",
    "  print(f\"{i} needed ${15000 - revenue[np.argmax(products == i)][3]} to cross the target\")"
   ]
  },
  {
   "cell_type": "code",
   "execution_count": null,
   "id": "a67f04e1",
   "metadata": {},
   "outputs": [],
   "source": []
  }
 ],
 "metadata": {
  "kernelspec": {
   "display_name": "base",
   "language": "python",
   "name": "python3"
  },
  "language_info": {
   "codemirror_mode": {
    "name": "ipython",
    "version": 3
   },
   "file_extension": ".py",
   "mimetype": "text/x-python",
   "name": "python",
   "nbconvert_exporter": "python",
   "pygments_lexer": "ipython3",
   "version": "3.13.5"
  }
 },
 "nbformat": 4,
 "nbformat_minor": 5
}
