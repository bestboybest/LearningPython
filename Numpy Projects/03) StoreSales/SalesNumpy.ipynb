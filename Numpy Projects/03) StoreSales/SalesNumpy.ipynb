{
 "cells": [
  {
   "cell_type": "markdown",
   "id": "5ed0dcfd",
   "metadata": {},
   "source": [
    "# Sales of an Online Store Project Details\n",
    "\n",
    "We are given data about the sales of an online store over the first quarter of an year (Jan to April) of 5 of their top products. We need to analyze the data provided and construct a report of the store's performance. "
   ]
  },
  {
   "cell_type": "code",
   "execution_count": 2,
   "id": "94c8215c",
   "metadata": {},
   "outputs": [],
   "source": [
    "#import libraries\n",
    "import numpy as np\n",
    "import matplotlib.pyplot as plt"
   ]
  },
  {
   "cell_type": "code",
   "execution_count": 3,
   "id": "b9ccadc8",
   "metadata": {},
   "outputs": [],
   "source": [
    "#Given Data\n",
    "products = np.array(['Smartphone', 'Laptop', 'Headphones', 'Smartwatch', 'Tablet'])\n",
    "\n",
    "prices = np.array([600, 1200, 150, 300, 450])\n",
    "costs = np.array([450, 950, 80, 210, 300])\n",
    "\n",
    "units = np.array([[55, 60, 65, 70], [25, 28, 30, 35], [110, 120, 100, 95], [40, 42, 48, 55], [35, 38, 40, 42]])"
   ]
  },
  {
   "cell_type": "code",
   "execution_count": 11,
   "id": "64c3d527",
   "metadata": {},
   "outputs": [],
   "source": [
    "#Calculations with data\n",
    "\n",
    "revenue = units * prices[:, np.newaxis]\n",
    "profit = units * (prices-costs)[:, np.newaxis]"
   ]
  },
  {
   "cell_type": "code",
   "execution_count": 17,
   "id": "6735a138",
   "metadata": {},
   "outputs": [
    {
     "name": "stdout",
     "output_type": "stream",
     "text": [
      "Total revenue over the four months is 480600.\n",
      "Total profit over the four months is 136650.\n",
      "\n",
      "\n",
      "Total revenue of product Smartphone over the four months is 150000\n",
      "Total revenue of product Laptop over the four months is 141600\n",
      "Total revenue of product Headphones over the four months is 63750\n",
      "Total revenue of product Smartwatch over the four months is 55500\n",
      "Total revenue of product Tablet over the four months is 69750\n",
      "\n",
      "\n",
      "\n",
      "Total profit product Smartphone over the four months is 37500\n",
      "Total profit product Laptop over the four months is 29500\n",
      "Total profit product Headphones over the four months is 29750\n",
      "Total profit product Smartwatch over the four months is 16650\n",
      "Total profit product Tablet over the four months is 23250\n"
     ]
    }
   ],
   "source": [
    "#Some conclusions\n",
    "\n",
    "print(f\"Total revenue over the four months is {np.sum(revenue)}.\")\n",
    "print(f\"Total profit over the four months is {np.sum(profit)}.\\n\\n\")\n",
    "\n",
    "for i in range(5): print(f\"Total revenue of product {products[i]} over the four months is {np.sum(revenue[i])}\")\n",
    "print(\"\\n\\n\")\n",
    "for i in range(5): print(f\"Total profit product {products[i]} over the four months is {np.sum(profit[i])}\")"
   ]
  },
  {
   "cell_type": "code",
   "execution_count": null,
   "id": "89910ea7",
   "metadata": {},
   "outputs": [],
   "source": []
  }
 ],
 "metadata": {
  "kernelspec": {
   "display_name": "base",
   "language": "python",
   "name": "python3"
  },
  "language_info": {
   "codemirror_mode": {
    "name": "ipython",
    "version": 3
   },
   "file_extension": ".py",
   "mimetype": "text/x-python",
   "name": "python",
   "nbconvert_exporter": "python",
   "pygments_lexer": "ipython3",
   "version": "3.13.5"
  }
 },
 "nbformat": 4,
 "nbformat_minor": 5
}
