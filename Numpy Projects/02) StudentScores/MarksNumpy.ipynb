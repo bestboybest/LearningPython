{
 "cells": [
  {
   "cell_type": "markdown",
   "id": "ef5e09b0",
   "metadata": {},
   "source": [
    "# Student Marks Project Details\n",
    "\n",
    "There are 10 students with student ID's of form 'IS25BM0XX' in a maths class. They have 4 graded tests over a semester: \n",
    "- Quiz 1: Out of 20 marks (10% Weightage)\n",
    "- Midterms: Out of 100 marks (30% Weightage)\n",
    "- Quiz 2: Out of 20 marks (10% Weightage)\n",
    "- Finals: Out of 150 marks (50% Weightage)\n",
    "Grading is done such that 90+ percent scorers get A, 80+ get B, 70+ get C, 60+ get D and people with marks below D directly get F\n",
    "Data of the students marks in the maths course are given, and we are to grade them and also analyze their marks."
   ]
  },
  {
   "cell_type": "code",
   "execution_count": 2,
   "id": "a9a05ed1",
   "metadata": {},
   "outputs": [],
   "source": [
    "#import numpy and matplotlib\n",
    "import numpy as np\n",
    "import matplotlib.pyplot as plt"
   ]
  },
  {
   "cell_type": "code",
   "execution_count": 18,
   "id": "f53faedb",
   "metadata": {},
   "outputs": [],
   "source": [
    "#The data in numpy arrays\n",
    "\n",
    "scores = np.array([ [18, 85, 15, 130], [12, 76, 16, 115],[20, 92, 19, 142], [14, 68, 14, 99], [19, 88, 17, 135], [16, 90, 18, 128], [10, 55, 11, 82], [17, 95, 18, 145], [15, 72, 13, 110], [18, 91, 20, 138]])\n",
    "maxScores = np.array([20, 100, 20, 150])\n",
    "students = np.array(np.append([f\"IS25BM00{i}\" for i in range(1,10)], ['IS25BM010']))\n",
    "weights = np.array([0.1, 0.3, 0.1, 0.5])"
   ]
  },
  {
   "cell_type": "code",
   "execution_count": 22,
   "id": "e4178734",
   "metadata": {},
   "outputs": [],
   "source": [
    "#Calculation of marks, percents and grades\n",
    "maxMarks = np.sum(maxScores*weights)\n",
    "studentMarks = np.sum(scores * weights, axis = 1)\n",
    "studentPercent = studentMarks/maxMarks * 100\n",
    "studentGrade = np.select([studentPercent >= 90, studentPercent >= 80, studentPercent >= 70, studentPercent >= 60], ['A', 'B', 'C', 'D'], 'F')"
   ]
  },
  {
   "cell_type": "code",
   "execution_count": 26,
   "id": "742a6cee",
   "metadata": {},
   "outputs": [
    {
     "name": "stdout",
     "output_type": "stream",
     "text": [
      "Student with ID IS25BM001 has obtained marks 93.80 out of 109.0 to get percentage of 86.06 and grade of B\n",
      "Student with ID IS25BM002 has obtained marks 83.10 out of 109.0 to get percentage of 76.24 and grade of C\n",
      "Student with ID IS25BM003 has obtained marks 102.50 out of 109.0 to get percentage of 94.04 and grade of A\n",
      "Student with ID IS25BM004 has obtained marks 72.70 out of 109.0 to get percentage of 66.70 and grade of D\n",
      "Student with ID IS25BM005 has obtained marks 97.50 out of 109.0 to get percentage of 89.45 and grade of B\n",
      "Student with ID IS25BM006 has obtained marks 94.40 out of 109.0 to get percentage of 86.61 and grade of B\n",
      "Student with ID IS25BM007 has obtained marks 59.60 out of 109.0 to get percentage of 54.68 and grade of F\n",
      "Student with ID IS25BM008 has obtained marks 104.50 out of 109.0 to get percentage of 95.87 and grade of A\n",
      "Student with ID IS25BM009 has obtained marks 79.40 out of 109.0 to get percentage of 72.84 and grade of C\n",
      "Student with ID IS25BM010 has obtained marks 100.10 out of 109.0 to get percentage of 91.83 and grade of A\n"
     ]
    }
   ],
   "source": [
    "#Printing everyone's marks and grades\n",
    "for i in range(10): print(f\"Student with ID {students[i]} has obtained marks {studentMarks[i]:.2f} out of {maxMarks} to get percentage of {studentPercent[i]:.2f} and grade of {studentGrade[i]}\")"
   ]
  },
  {
   "cell_type": "markdown",
   "id": "a328f61b",
   "metadata": {},
   "source": [
    "We have finished analyzing their marks, now we will visualize them for better clarity\n",
    "\n",
    "## Visualization of marks"
   ]
  },
  {
   "cell_type": "markdown",
   "id": "576275c7",
   "metadata": {},
   "source": []
  }
 ],
 "metadata": {
  "kernelspec": {
   "display_name": "base",
   "language": "python",
   "name": "python3"
  },
  "language_info": {
   "codemirror_mode": {
    "name": "ipython",
    "version": 3
   },
   "file_extension": ".py",
   "mimetype": "text/x-python",
   "name": "python",
   "nbconvert_exporter": "python",
   "pygments_lexer": "ipython3",
   "version": "3.13.5"
  }
 },
 "nbformat": 4,
 "nbformat_minor": 5
}
