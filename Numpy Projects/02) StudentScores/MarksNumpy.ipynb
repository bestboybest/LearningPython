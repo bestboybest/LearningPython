{
 "cells": [
  {
   "cell_type": "markdown",
   "id": "ef5e09b0",
   "metadata": {},
   "source": [
    "# Student Marks Project Details\n",
    "\n",
    "There are 10 students named A-J in a maths class. They have 4 graded tests over a semester: \n",
    "- Quiz 1: Out of 20 marks (10% Weightage)\n",
    "- Midterms: Out of 100 marks (30% Weightage)\n",
    "- Quiz 2: Out of 20 marks (10% Weightage)\n",
    "- Finals: Out of 150 marks (50% Weightage)\n",
    "Data of the students marks in the maths course are given, and we are to grade them and also analyze their marks."
   ]
  },
  {
   "cell_type": "code",
   "execution_count": 2,
   "id": "a9a05ed1",
   "metadata": {},
   "outputs": [],
   "source": [
    "#import numpy and matplotlib\n",
    "import numpy as np\n",
    "import matplotlib.pyplot as plt"
   ]
  },
  {
   "cell_type": "code",
   "execution_count": 3,
   "id": "f53faedb",
   "metadata": {},
   "outputs": [],
   "source": [
    "#The data in numpy arrays\n",
    "\n",
    "scores = np.array([ [18, 85, 15, 130], [12, 76, 16, 115],[20, 92, 19, 142], [14, 68, 14, 99], [19, 88, 17, 135], [16, 90, 18, 128], [10, 55, 11, 82], [17, 95, 18, 145], [15, 72, 13, 110], [18, 91, 20, 138]])\n",
    "maxScores = np.array([20, 100, 20, 150])\n",
    "students = np.array(['A', 'B', 'C', 'D', 'E', 'F', 'G', 'H', 'I', 'J'])\n",
    "weights = np.array([0.1, 0.3, 0.1, 0.3])"
   ]
  },
  {
   "cell_type": "code",
   "execution_count": null,
   "id": "e4178734",
   "metadata": {},
   "outputs": [],
   "source": []
  }
 ],
 "metadata": {
  "kernelspec": {
   "display_name": "base",
   "language": "python",
   "name": "python3"
  },
  "language_info": {
   "codemirror_mode": {
    "name": "ipython",
    "version": 3
   },
   "file_extension": ".py",
   "mimetype": "text/x-python",
   "name": "python",
   "nbconvert_exporter": "python",
   "pygments_lexer": "ipython3",
   "version": "3.13.5"
  }
 },
 "nbformat": 4,
 "nbformat_minor": 5
}
