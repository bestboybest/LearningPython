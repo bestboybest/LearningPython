{
 "cells": [
  {
   "cell_type": "markdown",
   "id": "ea55c866",
   "metadata": {},
   "source": [
    "## Possibly trying to visualize *the sun*, probably"
   ]
  },
  {
   "cell_type": "markdown",
   "id": "094e08fe",
   "metadata": {},
   "source": [
    "Okay, need to get the fits files from somewhere\n",
    "Chatgpt suggested https://sdo.oma.be, which told me to get the sunpy library i think.\n",
    "\n",
    "So i downloaded the sunpy library (and the astroquery one for later and added it to my base environment)\n",
    "\n",
    "I unfortunately just dont have the time to try to understand/learn these 2 libraries (as of now), but ill try to get back to it whenenever i can and just chatgpt it for now\n"
   ]
  },
  {
   "cell_type": "code",
   "execution_count": 1,
   "id": "7516dfe4",
   "metadata": {},
   "outputs": [],
   "source": [
    "#importing all necessary libraries\n",
    "import numpy as np\n",
    "import matplotlib.pyplot as plt\n",
    "import seaborn as sns\n",
    "import pandas as pd\n",
    "from astropy.io import fits\n",
    "from astropy.visualization import ZScaleInterval\n",
    "\n",
    "#had to install sunpy (also installed astroquery for later)\n"
   ]
  },
  {
   "cell_type": "code",
   "execution_count": 5,
   "id": "c661affc",
   "metadata": {},
   "outputs": [
    {
     "data": {
      "application/vnd.jupyter.widget-view+json": {
       "model_id": "b927e570b926449fa8298f4927448482",
       "version_major": 2,
       "version_minor": 0
      },
      "text/plain": [
       "Files Downloaded:   0%|          | 0/1 [00:00<?, ?file/s]"
      ]
     },
     "metadata": {},
     "output_type": "display_data"
    },
    {
     "data": {
      "application/vnd.jupyter.widget-view+json": {
       "model_id": "8d915d6246be4fd1911e94ce5f080308",
       "version_major": 2,
       "version_minor": 0
      },
      "text/plain": [
       "aia.lev1.171A_2025_01_01T00_00_09.35Z.image_lev1.fits:   0%|          | 0.00/12.4M [00:00<?, ?B/s]"
      ]
     },
     "metadata": {},
     "output_type": "display_data"
    },
    {
     "name": "stdout",
     "output_type": "stream",
     "text": [
      "Download complete!\n",
      "File saved at: ['my_sun_image.fits\\\\aia.lev1.171A_2025_01_01T00_00_09.35Z.image_lev1.fits']\n"
     ]
    }
   ],
   "source": [
    "#This should apparently hopefully get me a good quality fits file of the sun\n",
    "\n",
    "from sunpy.net import Fido, attrs as a\n",
    "import astropy.units as u\n",
    "\n",
    "# Your original search query\n",
    "result = Fido.search(\n",
    "    a.Time('2025-01-01T00:00:00', '2025-01-01T00:00:10'),\n",
    "    a.Instrument('AIA'),\n",
    "    a.Wavelength(171*u.angstrom)\n",
    ")\n",
    "\n",
    "# Fetch the data and save it directly to your current folder\n",
    "# The 'path' argument gives you full control.\n",
    "downloaded_files = Fido.fetch(result, path=\"./my_sun_image.fits\")\n",
    "\n",
    "print(\"Download complete!\")\n",
    "print(f\"File saved at: {downloaded_files}\")\n"
   ]
  },
  {
   "cell_type": "code",
   "execution_count": null,
   "id": "07fea35b",
   "metadata": {},
   "outputs": [],
   "source": []
  }
 ],
 "metadata": {
  "kernelspec": {
   "display_name": "base",
   "language": "python",
   "name": "python3"
  },
  "language_info": {
   "codemirror_mode": {
    "name": "ipython",
    "version": 3
   },
   "file_extension": ".py",
   "mimetype": "text/x-python",
   "name": "python",
   "nbconvert_exporter": "python",
   "pygments_lexer": "ipython3",
   "version": "3.13.5"
  }
 },
 "nbformat": 4,
 "nbformat_minor": 5
}
